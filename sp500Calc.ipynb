{
 "cells": [
  {
   "cell_type": "markdown",
   "metadata": {},
   "source": []
  },
  {
   "cell_type": "markdown",
   "metadata": {},
   "source": [
    "#### Get composite data from WRDS\n",
    "Save as \"sp500_cons.csv\""
   ]
  },
  {
   "cell_type": "code",
   "execution_count": 1,
   "metadata": {},
   "outputs": [
    {
     "ename": "ModuleNotFoundError",
     "evalue": "No module named 'wrds'",
     "output_type": "error",
     "traceback": [
      "\u001B[0;31m---------------------------------------------------------------------------\u001B[0m",
      "\u001B[0;31mModuleNotFoundError\u001B[0m                       Traceback (most recent call last)",
      "\u001B[0;32m<ipython-input-1-9e08eabc320e>\u001B[0m in \u001B[0;36m<module>\u001B[0;34m\u001B[0m\n\u001B[1;32m      1\u001B[0m \u001B[0;32mimport\u001B[0m \u001B[0mpandas\u001B[0m \u001B[0;32mas\u001B[0m \u001B[0mpd\u001B[0m\u001B[0;34m\u001B[0m\u001B[0;34m\u001B[0m\u001B[0m\n\u001B[0;32m----> 2\u001B[0;31m \u001B[0;32mimport\u001B[0m \u001B[0mwrds\u001B[0m\u001B[0;34m\u001B[0m\u001B[0;34m\u001B[0m\u001B[0m\n\u001B[0m\u001B[1;32m      3\u001B[0m \u001B[0;34m\u001B[0m\u001B[0m\n\u001B[1;32m      4\u001B[0m \u001B[0mconn\u001B[0m \u001B[0;34m=\u001B[0m \u001B[0mwrds\u001B[0m\u001B[0;34m.\u001B[0m\u001B[0mConnection\u001B[0m\u001B[0;34m(\u001B[0m\u001B[0mwrds_username\u001B[0m\u001B[0;34m=\u001B[0m\u001B[0;34m'xiaolou'\u001B[0m\u001B[0;34m)\u001B[0m\u001B[0;34m\u001B[0m\u001B[0;34m\u001B[0m\u001B[0m\n\u001B[1;32m      5\u001B[0m sp500 = conn.raw_sql(\"\"\"select a.*, b.date, b.ret\n",
      "\u001B[0;31mModuleNotFoundError\u001B[0m: No module named 'wrds'"
     ]
    }
   ],
   "source": [
    "import pandas as pd\n",
    "import wrds\n",
    "\n",
    "conn = wrds.Connection(wrds_username='xiaolou')\n",
    "sp500 = conn.raw_sql(\"\"\"select a.*, b.date, b.ret\n",
    "                        from crsp.msp500list as a, crsp.msf as b\n",
    "                        where a.permno=b.permno\n",
    "                        and b.date >= a.start and b.date<= a.ending\n",
    "                        and b.date>='01/01/1926'\n",
    "                        order by date;\n",
    "                        \"\"\", date_cols=['start', 'ending', 'date'])\n",
    "sp500.to_csv(\"sp500_cons.csv\", index=False)\n",
    "conn.close()"
   ]
  },
  {
   "cell_type": "markdown",
   "source": [
    "#### Generate New Panel for Constituents with 2021 Data\n",
    "Read in sp500_constituent_monthly_total_rtns_2021.xlsx, permno_aft_revise.csv. Output panel with 2021 to panel_cons.csv."
   ],
   "metadata": {
    "collapsed": false
   }
  },
  {
   "cell_type": "code",
   "execution_count": null,
   "outputs": [],
   "source": [
    "data = pd.read_excel(\"./sp500_constituent_monthly_total_rtns_2021.xlsx\")\n",
    "permno_list = pd.read_csv('./permno_aft_revise.csv')[['ticker', 'permno']].drop_duplicates(subset=['ticker'])\n",
    "permno_list.permno = permno_list['permno'].astype(int).astype(str)\n",
    "data['comp'] = data['comp'].apply(lambda x: x.split(' ')[0])\n",
    "data = pd.merge(data, permno_list, how='left', left_on='comp', right_on='ticker')\n",
    "data = data.dropna(subset=['permno'])\n",
    "data.index = data['permno']\n",
    "data = data.iloc[:, 1:-2]\n",
    "new = None\n",
    "n = data.shape[0]\n",
    "for i, dt in enumerate(data.columns):\n",
    "    if new is None:\n",
    "        new = pd.DataFrame({'permno': data.index, 'date': [dt]*n, 'ret': data[dt]})\n",
    "    else:\n",
    "        temp = pd.DataFrame({'permno': data.index, 'date': [dt]*n, 'ret': data[dt]})\n",
    "        new = new.append(temp)\n",
    "\n",
    "dta = pd.read_csv('./sp500_cons.csv')\n",
    "# treatment of the data\n",
    "## turn permno into str\n",
    "dta['permno'] = dta['permno'].astype(int).astype(str)\n",
    "## change date into pandas date format\n",
    "dta['date'] = pd.to_datetime(dta['date'], format='%Y-%m-%d')\n",
    "## keep permno, date, ret\n",
    "dta = dta[['date', 'permno', 'ret']]\n",
    "dta = dta.append(new)\n",
    "## drop duplicates\n",
    "dta = dta.drop_duplicates(subset=['date', 'permno'])\n",
    "## missing return labelled as -66, -77, -88, -99\n",
    "dta = dta[dta['ret'] != -66]\n",
    "dta = dta[dta['ret'] != -77]\n",
    "dta = dta[dta['ret'] != -88]\n",
    "dta = dta[dta['ret'] != -99]\n",
    "## drop nan\n",
    "dta = dta.dropna()\n",
    "print(dta.shape)\n",
    "# generate permno list\n",
    "df = None\n",
    "permno = dta['permno'].unique()\n",
    "for pmo in permno:\n",
    "    if df is None:\n",
    "        df = dta[dta['permno'] == pmo]\n",
    "        df[pmo] = df['ret']\n",
    "        df = df[['date', pmo]]\n",
    "    else:\n",
    "        new = dta[dta['permno'] == pmo]\n",
    "        new[pmo] = new['ret']\n",
    "        new = new[['date', pmo]]\n",
    "        df = pd.merge(df, new, how='outer', on='date')\n",
    "df.to_csv('panel_cons.csv', index=False)"
   ],
   "metadata": {
    "collapsed": false,
    "pycharm": {
     "name": "#%%\n"
    }
   }
  },
  {
   "cell_type": "markdown",
   "metadata": {},
   "source": [
    "#### Turn Composite Data Into Panel Form\n",
    "Save as \"panel_cons.csv\""
   ]
  },
  {
   "cell_type": "code",
   "execution_count": null,
   "metadata": {},
   "outputs": [],
   "source": [
    "dta = pd.read_csv('./sp500_cons.csv')\n",
    "# treatment of the data\n",
    "## turn permno into str\n",
    "dta['permno'] = dta['permno'].astype(int).astype(str)\n",
    "## change date into pandas date format\n",
    "dta['date'] = pd.to_datetime(dta['date'], format='%Y-%m-%d')\n",
    "## keep permno, date, ret\n",
    "dta = dta[['date', 'permno', 'ret']]\n",
    "## drop duplicates\n",
    "dta = dta.drop_duplicates(subset=['date', 'permno'])\n",
    "## missing return labelled as -66, -77, -88, -99\n",
    "dta = dta[dta['ret'] != -66]\n",
    "dta = dta[dta['ret'] != -77]\n",
    "dta = dta[dta['ret'] != -88]\n",
    "dta = dta[dta['ret'] != -99]\n",
    "## drop nan\n",
    "dta = dta.dropna()\n",
    "print(dta.shape)\n",
    "\n",
    "# generate permno list\n",
    "df = None\n",
    "permno = dta['permno'].unique()\n",
    "for pmo in permno:\n",
    "    if df is None:\n",
    "        df = dta[dta['permno'] == pmo]\n",
    "        df[pmo] = df['ret']\n",
    "        df = df[['date', pmo]]\n",
    "    else:\n",
    "        new = dta[dta['permno'] == pmo]\n",
    "        new[pmo] = new['ret']\n",
    "        new = new[['date', pmo]]\n",
    "        df = pd.merge(df, new, how='outer', on='date')\n",
    "df.to_csv('panel_cons.csv', index=False)"
   ]
  },
  {
   "cell_type": "markdown",
   "metadata": {},
   "source": [
    "#### Calculate Annual Return For Composites\n",
    "Save as \"./ann_panel.csv\""
   ]
  },
  {
   "cell_type": "code",
   "execution_count": null,
   "metadata": {},
   "outputs": [],
   "source": [
    "df = pd.read_csv('./panel_cons.csv')\n",
    "\n",
    "df.index = pd.to_datetime(df['date'], format='%Y-%m-%d')\n",
    "df = df.iloc[:, 1:]\n",
    "df = df + 1\n",
    "df = df.cumprod()\n",
    "df['year'] = df.index.year\n",
    "annual = pd.DataFrame(columns=df.columns)\n",
    "ann_bef = None\n",
    "start_year = min(df['year'])\n",
    "end_year = max(df['year'])\n",
    "for i in range(start_year, end_year + 1):\n",
    "    ann = df.loc[df.year == i]\n",
    "    if i == start_year:\n",
    "        ann = ann.iloc[-1, :] - 1\n",
    "    else:\n",
    "        ann = ann.iloc[-1, :] / ann_bef - 1\n",
    "    ann_bef = df.loc[df.year == i].iloc[-1, :]\n",
    "    ann['year'] = i\n",
    "    annual = annual.append(ann, ignore_index=True)\n",
    "\n",
    "annual['year'] = annual['year'].astype(int)\n",
    "annual.to_csv(\"./ann_panel.csv\", index=False)"
   ]
  },
  {
   "cell_type": "markdown",
   "metadata": {},
   "source": [
    "#### Count Up and Down Month for Composites\n",
    "Save as \"summary_for_cons.csv\""
   ]
  },
  {
   "cell_type": "code",
   "execution_count": null,
   "metadata": {},
   "outputs": [],
   "source": [
    "\"\"\"CALCULATE UP AND DOWN MONTH\"\"\"\n",
    "df = pd.read_csv('./panel_cons.csv')\n",
    "df.index = pd.to_datetime(df['date'], format='%Y-%m-%d')\n",
    "df = df.iloc[:, 1:]     # get rid of date as a column\n",
    "\n",
    "# select negative return month\n",
    "nega_df = df.fillna(value=100)\n",
    "nega_df = (nega_df < 0)\n",
    "nega_df = pd.DataFrame(nega_df.sum(axis=0), columns=['downMonth'])\n",
    "# select positive return month\n",
    "pos_df = df.fillna(value=-100)\n",
    "pos_df = (pos_df >= 0)\n",
    "pos_df = pd.DataFrame(pos_df.sum(axis=0), columns=['upMonth'])\n",
    "\n",
    "\"\"\"CALCULATE UP AND DOWN YEAR\"\"\"\n",
    "df = pd.read_csv('./ann_panel.csv')\n",
    "df.index = df.year\n",
    "df = df.iloc[:, :-1]\n",
    "\n",
    "# select negative return month\n",
    "nega_df_y = df.fillna(value=100)\n",
    "nega_df_y = (nega_df_y < 0)\n",
    "nega_df_y = pd.DataFrame(nega_df_y.sum(axis=0), columns=['downYear'])\n",
    "# select positive return month\n",
    "pos_df_y = df.fillna(value=-100)\n",
    "pos_df_y = (pos_df_y >= 0)\n",
    "pos_df_y = pd.DataFrame(pos_df_y.sum(axis=0), columns=['upYear'])\n",
    "\n",
    "\"\"\"MERGE THE SERIES\"\"\"\n",
    "result = pd.merge(nega_df_y, pos_df_y, how='outer', left_index=True, right_index=True)\n",
    "result = pd.merge(result, nega_df, how='outer', left_index=True, right_index=True)\n",
    "result = pd.merge(result, pos_df, how='outer', left_index=True, right_index=True)\n",
    "result.to_csv(\"./summary_for_cons.csv\", index=True)"
   ]
  },
  {
   "cell_type": "markdown",
   "metadata": {},
   "source": [
    "#### Calculate Annual Return and Summary Data for Index\n",
    "Use \"index_sp500.csv\", annual return save as \"index_ann.csv\", summary statistics save as \"summary_for_ix.csv\""
   ]
  },
  {
   "cell_type": "code",
   "execution_count": null,
   "metadata": {},
   "outputs": [],
   "source": [
    "df = pd.read_csv('./index_sp500.csv')\n",
    "df = df.dropna()\n",
    "df['date'] = pd.to_datetime(df['caldt'], format='%Y%m%d')\n",
    "df['ret'] = df['vwretd']\n",
    "df = df[['date', 'ret']]\n",
    "\n",
    "\"\"\"CALCULATE ANNUAL RETURN\"\"\"\n",
    "dta = df.copy(deep=True)\n",
    "dta['ret'] = dta['ret'] + 1\n",
    "dta['ret'] = dta['ret'].cumprod()\n",
    "dta['ret_lag'] = dta['ret'].shift(12)\n",
    "dta['ann_ret'] = dta['ret'] / dta['ret_lag'] - 1\n",
    "dta.iloc[11, 3] = dta.iloc[11, 1] - 1\n",
    "dta['month'] = dta.date.apply(lambda x: x.month)\n",
    "dta['year'] = dta.date.apply(lambda x: x.year)\n",
    "\n",
    "dta = dta[dta['month'] == 12]\n",
    "dta = dta[['year', 'ann_ret']]\n",
    "dta.to_csv(\"./index_ann.csv\", index=False)\n",
    "\n",
    "\"\"\"CALCULATE MONTH\"\"\"\n",
    "result = dict()\n",
    "result['downMonth'] = (df['ret'] < 0).sum()\n",
    "result['upMonth'] = (df['ret'] >= 0).sum()\n",
    "result['downYear'] = (dta['ann_ret'] < 0).sum()\n",
    "result['upYear'] = (dta['ann_ret'] >= 0).sum()\n",
    "\n",
    "consecUp, consecDown = 0, 0\n",
    "currUp, currDown = 0, 0\n",
    "for i in range(df.shape[0]):\n",
    "    curr = df.iloc[i, 1]\n",
    "    if curr is None:\n",
    "        continue\n",
    "    else:\n",
    "        if curr >= 0:\n",
    "            currUp += 1\n",
    "            consecUp = max(consecUp, currUp)\n",
    "            currDown = 0\n",
    "        else:\n",
    "            currUp = 0\n",
    "            currDown += 1\n",
    "            consecDown = max(consecDown, currDown)\n",
    "result['consecUp'] = consecUp\n",
    "result['consecDown'] = consecDown\n",
    "pGivep, pGiven, nGivep, nGiven = 0, 0, 0, 0\n",
    "for i in range(1, df.shape[0]):\n",
    "    now = df.iloc[i, 1]\n",
    "    prev = df.iloc[i - 1, 1]\n",
    "    if now is None or prev is None:\n",
    "        continue\n",
    "    if now >= 0 and prev >= 0:\n",
    "        pGivep += 1\n",
    "    elif now >= 0 and prev < 0:\n",
    "        pGiven += 1\n",
    "    elif now < 0 and prev < 0:\n",
    "        nGiven += 1\n",
    "    elif now < 0 and prev >= 0:\n",
    "        nGivep += 1\n",
    "result['PosAftPos'] = pGivep\n",
    "result['PosAftNeg'] = pGiven\n",
    "result['NegAftPos'] = nGivep\n",
    "result['NegAftNeg'] = nGiven\n",
    "pd.DataFrame(result, index=[0]).to_csv('summary_for_ix.csv', index=False)"
   ]
  },
  {
   "cell_type": "markdown",
   "metadata": {},
   "source": [
    "#### Calculate up and down company number for each year and each month\n",
    "summary statistics save as \"summary_by_year.csv\" and \"summary_by_month.csv\""
   ]
  },
  {
   "cell_type": "code",
   "execution_count": null,
   "metadata": {},
   "outputs": [],
   "source": [
    "\"\"\"CALCULATE UP AND DOWN MONTH\"\"\"\n",
    "df = pd.read_csv('./panel_cons.csv')\n",
    "df.index = pd.to_datetime(df['date'], format='%Y-%m-%d')\n",
    "df = df.iloc[:, 1:]     # get rid of date as a column\n",
    "# select negative return month\n",
    "nega_df = df.fillna(value=100)\n",
    "nega_df = (nega_df < 0)\n",
    "nega_df = pd.DataFrame(nega_df.sum(axis=1), columns=['downComp'])\n",
    "# select positive return month\n",
    "pos_df = df.fillna(value=-100)\n",
    "pos_df = (pos_df >= 0)\n",
    "pos_df = pd.DataFrame(pos_df.sum(axis=1), columns=['upComp'])\n",
    "\n",
    "result_m = pd.merge(nega_df, pos_df, how='outer', left_index=True, right_index=True)\n",
    "result_m.to_csv(\"./summary_by_month.csv\")\n",
    "\n",
    "\"\"\"CALCULATE UP AND DOWN YEAR\"\"\"\n",
    "df = pd.read_csv('./ann_panel.csv')\n",
    "df.index = df.year\n",
    "df = df.iloc[:, :-1]\n",
    "# select negative return year\n",
    "nega_df_y = df.fillna(value=100)\n",
    "nega_df_y = (nega_df_y < 0)\n",
    "nega_df_y = pd.DataFrame(nega_df_y.sum(axis=1), columns=['downComp'])\n",
    "# select positive return year\n",
    "pos_df_y = df.fillna(value=-100)\n",
    "pos_df_y = (pos_df_y >= 0)\n",
    "pos_df_y = pd.DataFrame(pos_df_y.sum(axis=1), columns=['upComp'])\n",
    "\n",
    "result_y = pd.merge(nega_df_y, pos_df_y, how='outer', left_index=True, right_index=True)\n",
    "result_y.to_csv(\"./summary_by_year.csv\")\n",
    "print(nega_df, pos_df, nega_df_y, pos_df_y)"
   ]
  },
  {
   "cell_type": "markdown",
   "source": [
    "#### Calculate Consecutive Month Number for Up and Down Periods\n",
    "Save as \"summary_for_cons2.csv\""
   ],
   "metadata": {
    "collapsed": false
   }
  },
  {
   "cell_type": "code",
   "execution_count": null,
   "outputs": [],
   "source": [
    "def longestUpMonth(series):\n",
    "    monthMax = 0\n",
    "    curr = 0\n",
    "    for i in series:\n",
    "        if i is None:\n",
    "            curr = 0\n",
    "        elif i >= 0:\n",
    "            curr += 1\n",
    "            monthMax = max(monthMax, curr)\n",
    "        else:\n",
    "            curr = 0\n",
    "    return monthMax\n",
    "\n",
    "\n",
    "def longestDownMonth(series):\n",
    "    monthMax = 0\n",
    "    curr = 0\n",
    "    for i in series:\n",
    "        if i is None:\n",
    "            curr = 0\n",
    "        elif i < 0:\n",
    "            curr += 1\n",
    "            monthMax = max(monthMax, curr)\n",
    "        else:\n",
    "            curr = 0\n",
    "    return monthMax\n",
    "\n",
    "df = pd.read_csv('./panel_cons.csv')\n",
    "df.index = pd.to_datetime(df['date'], format='%Y-%m-%d')\n",
    "df = df.iloc[:, 1:]     # get rid of date as a column\n",
    "result = []\n",
    "for i, comp in enumerate(df.columns):\n",
    "    numUp = longestUpMonth(df[comp])\n",
    "    numDown = longestDownMonth(df[comp])\n",
    "    result.append([comp, numUp, numDown])\n",
    "result = pd.DataFrame(result, columns=['permno', 'consecUp', 'consecDown'])\n",
    "result.index = result.permno\n",
    "result = result[['consecUp', 'consecDown']]\n",
    "dta1 = pd.read_csv('summary_for_cons.csv', index_col=0)\n",
    "dta1.index = dta1.index.astype(str)\n",
    "dta1 = pd.merge(dta1, result, how='outer', right_index=True, left_index=True)\n",
    "dta1.to_csv('summary_for_cons2.csv')"
   ],
   "metadata": {
    "collapsed": false,
    "pycharm": {
     "name": "#%%\n"
    }
   }
  },
  {
   "cell_type": "markdown",
   "source": [
    "#### Calculate Conditional Up and Down Time\n",
    "Save as 'summary_for_cons3.csv'"
   ],
   "metadata": {
    "collapsed": false
   }
  },
  {
   "cell_type": "code",
   "execution_count": null,
   "outputs": [],
   "source": [
    "df = pd.read_csv('./panel_cons.csv')\n",
    "df.index = pd.to_datetime(df['date'], format='%Y-%m-%d')\n",
    "df = df.iloc[:, 1:]\n",
    "\n",
    "result = []\n",
    "for j, comp in enumerate(df.columns):\n",
    "    pGivep, pGiven, nGivep, nGiven = 0, 0, 0, 0\n",
    "    for i in range(1, df.shape[0]):\n",
    "        now = df.iloc[i, j]\n",
    "        prev = df.iloc[i-1, j]\n",
    "        if now is None or prev is None:\n",
    "            continue\n",
    "        if now >= 0 and prev >= 0:\n",
    "            pGivep += 1\n",
    "        elif now >= 0 and prev < 0:\n",
    "            pGiven += 1\n",
    "        elif now < 0 and prev < 0:\n",
    "            nGiven += 1\n",
    "        elif now < 0 and prev >= 0:\n",
    "            nGivep += 1\n",
    "    result.append([comp, pGivep, pGiven, nGivep, nGiven])\n",
    "result = pd.DataFrame(result, columns=['permno', 'PosAftPos', 'PosAftNeg', 'NegAftPos', 'NegAftNeg'])\n",
    "result.index = result.permno\n",
    "result = result[['PosAftPos', 'PosAftNeg', 'NegAftPos', 'NegAftNeg']]\n",
    "\n",
    "dta2 = pd.read_csv('summary_for_cons2.csv', index_col=0)\n",
    "dta2.index = dta2.index.astype(str)\n",
    "dta2 = pd.merge(dta2, result, how='outer', right_index=True, left_index=True)\n",
    "dta2.to_csv('summary_for_cons3.csv')"
   ],
   "metadata": {
    "collapsed": false,
    "pycharm": {
     "name": "#%%\n"
    }
   }
  },
  {
   "cell_type": "code",
   "execution_count": null,
   "outputs": [],
   "source": [],
   "metadata": {
    "collapsed": false,
    "pycharm": {
     "name": "#%%\n"
    }
   }
  }
 ],
 "metadata": {
  "kernelspec": {
   "display_name": "Python 3",
   "language": "python",
   "name": "python3"
  },
  "language_info": {
   "codemirror_mode": {
    "name": "ipython",
    "version": 3
   },
   "file_extension": ".py",
   "mimetype": "text/x-python",
   "name": "python",
   "nbconvert_exporter": "python",
   "pygments_lexer": "ipython3",
   "version": "3.7.4"
  }
 },
 "nbformat": 4,
 "nbformat_minor": 2
}